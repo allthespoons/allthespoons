{
 "cells": [
  {
   "cell_type": "code",
   "execution_count": 4,
   "metadata": {
    "collapsed": false
   },
   "outputs": [],
   "source": [
    "import numpy as np\n",
    "from pandas import DataFrame\n",
    "from fastkml import kml"
   ]
  },
  {
   "cell_type": "code",
   "execution_count": 5,
   "metadata": {
    "collapsed": true
   },
   "outputs": [],
   "source": [
    "with open('./scores.txt', 'r') as f:\n",
    "    scores = f.read().split('\\n\\n')"
   ]
  },
  {
   "cell_type": "code",
   "execution_count": 6,
   "metadata": {
    "collapsed": false
   },
   "outputs": [],
   "source": [
    "def to_dict(s):\n",
    "    \n",
    "    lines = s.split('\\n')\n",
    "    ratings = s.split('\\n')[1].replace('\\xf0\\x9f\\x94\\xa5', '')\n",
    "    fball = True if '\\xf0\\x9f\\x94\\xa5' in s else False\n",
    "    desc = ' '.join(lines[2:]) if len(s) > 2 else ''\n",
    "    \n",
    "    return{\n",
    "        'name': lines[0].lower(),\n",
    "        'place': float(ratings.split('/')[0]),\n",
    "        'people': float(ratings.split('/')[1]),\n",
    "        'price': float(ratings.split('/')[2]),\n",
    "        'fball': fball,\n",
    "        'desc': desc\n",
    "    }"
   ]
  },
  {
   "cell_type": "code",
   "execution_count": 7,
   "metadata": {
    "collapsed": false
   },
   "outputs": [],
   "source": [
    "data = DataFrame([to_dict(s) for s in scores])"
   ]
  },
  {
   "cell_type": "code",
   "execution_count": 9,
   "metadata": {
    "collapsed": false
   },
   "outputs": [],
   "source": [
    "k = kml.KML()\n",
    "with open('./data.kml', 'r') as f:\n",
    "    k.from_string(f.read())\n",
    "folders = [a for a in [a for a in k.features()][0].features()]\n",
    "visited = [a for a in folders[1].features()]"
   ]
  },
  {
   "cell_type": "code",
   "execution_count": 10,
   "metadata": {
    "collapsed": true
   },
   "outputs": [],
   "source": [
    "from datetime import datetime as dt"
   ]
  },
  {
   "cell_type": "code",
   "execution_count": 11,
   "metadata": {
    "collapsed": false
   },
   "outputs": [],
   "source": [
    "def map_dict(m):\n",
    "    \n",
    "    desc = m.description\n",
    "    # print len(desc.split('<br>'))\n",
    "    \n",
    "    who, date = '', ''\n",
    "    \n",
    "    if len(desc.split('<br>')) == 1:\n",
    "        if 'with' in m.description.split('<br>')[0].lower():\n",
    "            who = m.description.split('<br>')[0].lower()\n",
    "            date = ''\n",
    "        else:\n",
    "            date = m.description.split('<br>')[0]\n",
    "            who = ''\n",
    "    \n",
    "    if len(desc.split('<br>')) == 2:\n",
    "        if 'with' in m.description.split('<br>')[0].lower():\n",
    "            who = m.description.split('<br>')[0].lower()\n",
    "            date = m.description.split('<br>')[1]\n",
    "        else:\n",
    "            date = m.description.split('<br>')[0]\n",
    "            who = m.description.split('<br>')[1].lower()\n",
    "    \n",
    "    if len(desc.split('<br>')) > 2:\n",
    "        date, who = '', ''\n",
    "    \n",
    "    if len(date) > 0:\n",
    "        date = dt.strptime(date, '%d/%m/%Y')\n",
    "    \n",
    "    return {\n",
    "        'name': m.name,\n",
    "        'x': float(m.geometry.coords[0][:2][0]),\n",
    "        'y': float(m.geometry.coords[0][:2][1]),\n",
    "        'who': who,\n",
    "        'date': date\n",
    "    }"
   ]
  },
  {
   "cell_type": "code",
   "execution_count": 12,
   "metadata": {
    "collapsed": false
   },
   "outputs": [],
   "source": [
    "map_data = DataFrame([map_dict(v) for v in visited])"
   ]
  },
  {
   "cell_type": "code",
   "execution_count": 13,
   "metadata": {
    "collapsed": false
   },
   "outputs": [
    {
     "data": {
      "text/html": [
       "<div>\n",
       "<table border=\"1\" class=\"dataframe\">\n",
       "  <thead>\n",
       "    <tr style=\"text-align: right;\">\n",
       "      <th></th>\n",
       "      <th>date</th>\n",
       "      <th>name</th>\n",
       "      <th>who</th>\n",
       "      <th>x</th>\n",
       "      <th>y</th>\n",
       "    </tr>\n",
       "  </thead>\n",
       "  <tbody>\n",
       "    <tr>\n",
       "      <th>0</th>\n",
       "      <td>NaT</td>\n",
       "      <td>Beehive, Brixton</td>\n",
       "      <td></td>\n",
       "      <td>-0.114235</td>\n",
       "      <td>51.464071</td>\n",
       "    </tr>\n",
       "    <tr>\n",
       "      <th>1</th>\n",
       "      <td>2017-01-13</td>\n",
       "      <td>Plough and Harrow</td>\n",
       "      <td>with kenneth</td>\n",
       "      <td>-0.231416</td>\n",
       "      <td>51.492693</td>\n",
       "    </tr>\n",
       "    <tr>\n",
       "      <th>2</th>\n",
       "      <td>2017-01-13</td>\n",
       "      <td>William Morris</td>\n",
       "      <td>with kenneth</td>\n",
       "      <td>-0.225338</td>\n",
       "      <td>51.493021</td>\n",
       "    </tr>\n",
       "    <tr>\n",
       "      <th>3</th>\n",
       "      <td>NaT</td>\n",
       "      <td>The Half Moon</td>\n",
       "      <td>with bate</td>\n",
       "      <td>-0.045930</td>\n",
       "      <td>51.522096</td>\n",
       "    </tr>\n",
       "    <tr>\n",
       "      <th>4</th>\n",
       "      <td>NaT</td>\n",
       "      <td>The Rockingham Arms</td>\n",
       "      <td>with bate, paddy, and ash</td>\n",
       "      <td>-0.099671</td>\n",
       "      <td>51.496000</td>\n",
       "    </tr>\n",
       "    <tr>\n",
       "      <th>5</th>\n",
       "      <td>2017-01-22</td>\n",
       "      <td>Wetherspoons</td>\n",
       "      <td>with andrea</td>\n",
       "      <td>-0.143911</td>\n",
       "      <td>51.495196</td>\n",
       "    </tr>\n",
       "    <tr>\n",
       "      <th>6</th>\n",
       "      <td>2017-01-22</td>\n",
       "      <td>Willow Walk</td>\n",
       "      <td>with andrea</td>\n",
       "      <td>-0.142857</td>\n",
       "      <td>51.495265</td>\n",
       "    </tr>\n",
       "    <tr>\n",
       "      <th>7</th>\n",
       "      <td>2017-01-19</td>\n",
       "      <td>Hudson Bay</td>\n",
       "      <td></td>\n",
       "      <td>0.026551</td>\n",
       "      <td>51.545373</td>\n",
       "    </tr>\n",
       "    <tr>\n",
       "      <th>8</th>\n",
       "      <td>2017-01-19</td>\n",
       "      <td>Golden Grove</td>\n",
       "      <td></td>\n",
       "      <td>0.004026</td>\n",
       "      <td>51.544041</td>\n",
       "    </tr>\n",
       "    <tr>\n",
       "      <th>9</th>\n",
       "      <td>2017-01-25</td>\n",
       "      <td>Baxter's Court</td>\n",
       "      <td>with bate</td>\n",
       "      <td>-0.054979</td>\n",
       "      <td>51.545320</td>\n",
       "    </tr>\n",
       "    <tr>\n",
       "      <th>10</th>\n",
       "      <td>2017-02-08</td>\n",
       "      <td>New Crown</td>\n",
       "      <td></td>\n",
       "      <td>-0.130512</td>\n",
       "      <td>51.633427</td>\n",
       "    </tr>\n",
       "    <tr>\n",
       "      <th>11</th>\n",
       "      <td>2017-02-08</td>\n",
       "      <td>Spouter's Corner</td>\n",
       "      <td></td>\n",
       "      <td>-0.108742</td>\n",
       "      <td>51.596913</td>\n",
       "    </tr>\n",
       "    <tr>\n",
       "      <th>12</th>\n",
       "      <td>2017-02-13</td>\n",
       "      <td>The Montagu Pyke</td>\n",
       "      <td></td>\n",
       "      <td>-0.129784</td>\n",
       "      <td>51.514013</td>\n",
       "    </tr>\n",
       "    <tr>\n",
       "      <th>13</th>\n",
       "      <td>2017-02-17</td>\n",
       "      <td>Moon &amp; Stars</td>\n",
       "      <td></td>\n",
       "      <td>-0.050472</td>\n",
       "      <td>51.412371</td>\n",
       "    </tr>\n",
       "    <tr>\n",
       "      <th>14</th>\n",
       "      <td>2017-02-17</td>\n",
       "      <td>Richmal Crompton\\n</td>\n",
       "      <td></td>\n",
       "      <td>0.016437</td>\n",
       "      <td>51.399316</td>\n",
       "    </tr>\n",
       "    <tr>\n",
       "      <th>15</th>\n",
       "      <td>2017-02-17</td>\n",
       "      <td>Greyhound</td>\n",
       "      <td></td>\n",
       "      <td>0.013129</td>\n",
       "      <td>51.406021</td>\n",
       "    </tr>\n",
       "    <tr>\n",
       "      <th>16</th>\n",
       "      <td>2017-02-18</td>\n",
       "      <td>Railway</td>\n",
       "      <td>with batesy</td>\n",
       "      <td>-0.217299</td>\n",
       "      <td>51.461128</td>\n",
       "    </tr>\n",
       "    <tr>\n",
       "      <th>17</th>\n",
       "      <td>2017-02-18</td>\n",
       "      <td>Rocket</td>\n",
       "      <td>with batesy</td>\n",
       "      <td>-0.213440</td>\n",
       "      <td>51.464950</td>\n",
       "    </tr>\n",
       "    <tr>\n",
       "      <th>18</th>\n",
       "      <td>2017-02-18</td>\n",
       "      <td>Oyster Rooms</td>\n",
       "      <td>with batesy</td>\n",
       "      <td>-0.196359</td>\n",
       "      <td>51.480047</td>\n",
       "    </tr>\n",
       "    <tr>\n",
       "      <th>19</th>\n",
       "      <td>NaT</td>\n",
       "      <td>Asparagus</td>\n",
       "      <td></td>\n",
       "      <td>-0.171404</td>\n",
       "      <td>51.469931</td>\n",
       "    </tr>\n",
       "    <tr>\n",
       "      <th>20</th>\n",
       "      <td>2017-03-03</td>\n",
       "      <td>Sir John Oldcastle</td>\n",
       "      <td>with batesy</td>\n",
       "      <td>-0.105853</td>\n",
       "      <td>51.519843</td>\n",
       "    </tr>\n",
       "    <tr>\n",
       "      <th>21</th>\n",
       "      <td>2017-03-03</td>\n",
       "      <td>Barking Dog</td>\n",
       "      <td>with batesy</td>\n",
       "      <td>0.082170</td>\n",
       "      <td>51.540181</td>\n",
       "    </tr>\n",
       "    <tr>\n",
       "      <th>22</th>\n",
       "      <td>2017-03-03</td>\n",
       "      <td>The Drum</td>\n",
       "      <td>with batesy, ellie, and hassan</td>\n",
       "      <td>-0.013781</td>\n",
       "      <td>51.574909</td>\n",
       "    </tr>\n",
       "    <tr>\n",
       "      <th>23</th>\n",
       "      <td>2017-03-03</td>\n",
       "      <td>Walnut Tree</td>\n",
       "      <td>with batesy and ellie</td>\n",
       "      <td>0.012660</td>\n",
       "      <td>51.569721</td>\n",
       "    </tr>\n",
       "    <tr>\n",
       "      <th>24</th>\n",
       "      <td>2017-03-08</td>\n",
       "      <td>Shakespeares Head</td>\n",
       "      <td>with juliette, batesy, mike</td>\n",
       "      <td>-0.119498</td>\n",
       "      <td>51.516988</td>\n",
       "    </tr>\n",
       "    <tr>\n",
       "      <th>25</th>\n",
       "      <td>2017-03-08</td>\n",
       "      <td>Penderels Oak</td>\n",
       "      <td></td>\n",
       "      <td>-0.114992</td>\n",
       "      <td>51.517923</td>\n",
       "    </tr>\n",
       "    <tr>\n",
       "      <th>26</th>\n",
       "      <td>2017-03-08</td>\n",
       "      <td>Knights Templar</td>\n",
       "      <td></td>\n",
       "      <td>-0.111988</td>\n",
       "      <td>51.515400</td>\n",
       "    </tr>\n",
       "    <tr>\n",
       "      <th>27</th>\n",
       "      <td>2017-03-25</td>\n",
       "      <td>Ledger Building</td>\n",
       "      <td></td>\n",
       "      <td>-0.024596</td>\n",
       "      <td>51.508048</td>\n",
       "    </tr>\n",
       "    <tr>\n",
       "      <th>28</th>\n",
       "      <td>2017-03-25</td>\n",
       "      <td>Gate Clock</td>\n",
       "      <td></td>\n",
       "      <td>-0.017665</td>\n",
       "      <td>51.481366</td>\n",
       "    </tr>\n",
       "    <tr>\n",
       "      <th>29</th>\n",
       "      <td>2017-03-25</td>\n",
       "      <td>Surrey Docks</td>\n",
       "      <td></td>\n",
       "      <td>-0.046467</td>\n",
       "      <td>51.492987</td>\n",
       "    </tr>\n",
       "    <tr>\n",
       "      <th>30</th>\n",
       "      <td>2017-04-07</td>\n",
       "      <td>Coronet</td>\n",
       "      <td></td>\n",
       "      <td>-0.115753</td>\n",
       "      <td>51.555662</td>\n",
       "    </tr>\n",
       "    <tr>\n",
       "      <th>31</th>\n",
       "      <td>2017-04-07</td>\n",
       "      <td>White Swan</td>\n",
       "      <td></td>\n",
       "      <td>-0.103354</td>\n",
       "      <td>51.545703</td>\n",
       "    </tr>\n",
       "    <tr>\n",
       "      <th>32</th>\n",
       "      <td>2017-03-31</td>\n",
       "      <td>Moon Under Water</td>\n",
       "      <td>with pad, burg, luke</td>\n",
       "      <td>-0.129325</td>\n",
       "      <td>51.510292</td>\n",
       "    </tr>\n",
       "    <tr>\n",
       "      <th>33</th>\n",
       "      <td>2017-03-25</td>\n",
       "      <td>Pommelers Rest</td>\n",
       "      <td></td>\n",
       "      <td>-0.077218</td>\n",
       "      <td>51.502377</td>\n",
       "    </tr>\n",
       "    <tr>\n",
       "      <th>34</th>\n",
       "      <td>2017-04-02</td>\n",
       "      <td>Ice Wharf</td>\n",
       "      <td>with burg, bate, luke</td>\n",
       "      <td>-0.145537</td>\n",
       "      <td>51.540377</td>\n",
       "    </tr>\n",
       "    <tr>\n",
       "      <th>35</th>\n",
       "      <td>2017-04-13</td>\n",
       "      <td>Metropolitan Bar</td>\n",
       "      <td>with batesy</td>\n",
       "      <td>-0.156190</td>\n",
       "      <td>51.522469</td>\n",
       "    </tr>\n",
       "    <tr>\n",
       "      <th>36</th>\n",
       "      <td>2017-02-03</td>\n",
       "      <td>Angel</td>\n",
       "      <td></td>\n",
       "      <td>-0.106494</td>\n",
       "      <td>51.532241</td>\n",
       "    </tr>\n",
       "    <tr>\n",
       "      <th>37</th>\n",
       "      <td>2017-04-13</td>\n",
       "      <td>Beaten Docket</td>\n",
       "      <td></td>\n",
       "      <td>-0.211315</td>\n",
       "      <td>51.552953</td>\n",
       "    </tr>\n",
       "    <tr>\n",
       "      <th>38</th>\n",
       "      <td>2017-04-13</td>\n",
       "      <td>JJ Moons (Wembley)</td>\n",
       "      <td></td>\n",
       "      <td>-0.290365</td>\n",
       "      <td>51.553460</td>\n",
       "    </tr>\n",
       "    <tr>\n",
       "      <th>39</th>\n",
       "      <td>2017-04-13</td>\n",
       "      <td>JJ Moons (Kingsbury)</td>\n",
       "      <td></td>\n",
       "      <td>-0.279722</td>\n",
       "      <td>51.584323</td>\n",
       "    </tr>\n",
       "    <tr>\n",
       "      <th>40</th>\n",
       "      <td>2017-04-21</td>\n",
       "      <td>George</td>\n",
       "      <td>with elliot</td>\n",
       "      <td>0.028153</td>\n",
       "      <td>51.574936</td>\n",
       "    </tr>\n",
       "    <tr>\n",
       "      <th>41</th>\n",
       "      <td>2017-04-21</td>\n",
       "      <td>Hamilton Hall</td>\n",
       "      <td>with elliot and batesy</td>\n",
       "      <td>-0.081067</td>\n",
       "      <td>51.518451</td>\n",
       "    </tr>\n",
       "  </tbody>\n",
       "</table>\n",
       "</div>"
      ],
      "text/plain": [
       "         date                  name                             who         x  \\\n",
       "0         NaT      Beehive, Brixton                                 -0.114235   \n",
       "1  2017-01-13     Plough and Harrow                    with kenneth -0.231416   \n",
       "2  2017-01-13        William Morris                    with kenneth -0.225338   \n",
       "3         NaT         The Half Moon                       with bate -0.045930   \n",
       "4         NaT   The Rockingham Arms       with bate, paddy, and ash -0.099671   \n",
       "5  2017-01-22          Wetherspoons                     with andrea -0.143911   \n",
       "6  2017-01-22           Willow Walk                     with andrea -0.142857   \n",
       "7  2017-01-19            Hudson Bay                                  0.026551   \n",
       "8  2017-01-19          Golden Grove                                  0.004026   \n",
       "9  2017-01-25        Baxter's Court                       with bate -0.054979   \n",
       "10 2017-02-08             New Crown                                 -0.130512   \n",
       "11 2017-02-08      Spouter's Corner                                 -0.108742   \n",
       "12 2017-02-13      The Montagu Pyke                                 -0.129784   \n",
       "13 2017-02-17          Moon & Stars                                 -0.050472   \n",
       "14 2017-02-17    Richmal Crompton\\n                                  0.016437   \n",
       "15 2017-02-17             Greyhound                                  0.013129   \n",
       "16 2017-02-18               Railway                     with batesy -0.217299   \n",
       "17 2017-02-18                Rocket                     with batesy -0.213440   \n",
       "18 2017-02-18          Oyster Rooms                     with batesy -0.196359   \n",
       "19        NaT             Asparagus                                 -0.171404   \n",
       "20 2017-03-03    Sir John Oldcastle                     with batesy -0.105853   \n",
       "21 2017-03-03           Barking Dog                     with batesy  0.082170   \n",
       "22 2017-03-03              The Drum  with batesy, ellie, and hassan -0.013781   \n",
       "23 2017-03-03           Walnut Tree           with batesy and ellie  0.012660   \n",
       "24 2017-03-08     Shakespeares Head     with juliette, batesy, mike -0.119498   \n",
       "25 2017-03-08         Penderels Oak                                 -0.114992   \n",
       "26 2017-03-08       Knights Templar                                 -0.111988   \n",
       "27 2017-03-25       Ledger Building                                 -0.024596   \n",
       "28 2017-03-25            Gate Clock                                 -0.017665   \n",
       "29 2017-03-25          Surrey Docks                                 -0.046467   \n",
       "30 2017-04-07               Coronet                                 -0.115753   \n",
       "31 2017-04-07            White Swan                                 -0.103354   \n",
       "32 2017-03-31      Moon Under Water            with pad, burg, luke -0.129325   \n",
       "33 2017-03-25        Pommelers Rest                                 -0.077218   \n",
       "34 2017-04-02             Ice Wharf           with burg, bate, luke -0.145537   \n",
       "35 2017-04-13      Metropolitan Bar                     with batesy -0.156190   \n",
       "36 2017-02-03                 Angel                                 -0.106494   \n",
       "37 2017-04-13         Beaten Docket                                 -0.211315   \n",
       "38 2017-04-13    JJ Moons (Wembley)                                 -0.290365   \n",
       "39 2017-04-13  JJ Moons (Kingsbury)                                 -0.279722   \n",
       "40 2017-04-21                George                     with elliot  0.028153   \n",
       "41 2017-04-21         Hamilton Hall          with elliot and batesy -0.081067   \n",
       "\n",
       "            y  \n",
       "0   51.464071  \n",
       "1   51.492693  \n",
       "2   51.493021  \n",
       "3   51.522096  \n",
       "4   51.496000  \n",
       "5   51.495196  \n",
       "6   51.495265  \n",
       "7   51.545373  \n",
       "8   51.544041  \n",
       "9   51.545320  \n",
       "10  51.633427  \n",
       "11  51.596913  \n",
       "12  51.514013  \n",
       "13  51.412371  \n",
       "14  51.399316  \n",
       "15  51.406021  \n",
       "16  51.461128  \n",
       "17  51.464950  \n",
       "18  51.480047  \n",
       "19  51.469931  \n",
       "20  51.519843  \n",
       "21  51.540181  \n",
       "22  51.574909  \n",
       "23  51.569721  \n",
       "24  51.516988  \n",
       "25  51.517923  \n",
       "26  51.515400  \n",
       "27  51.508048  \n",
       "28  51.481366  \n",
       "29  51.492987  \n",
       "30  51.555662  \n",
       "31  51.545703  \n",
       "32  51.510292  \n",
       "33  51.502377  \n",
       "34  51.540377  \n",
       "35  51.522469  \n",
       "36  51.532241  \n",
       "37  51.552953  \n",
       "38  51.553460  \n",
       "39  51.584323  \n",
       "40  51.574936  \n",
       "41  51.518451  "
      ]
     },
     "execution_count": 13,
     "metadata": {},
     "output_type": "execute_result"
    }
   ],
   "source": [
    "map_data"
   ]
  },
  {
   "cell_type": "code",
   "execution_count": 16,
   "metadata": {
    "collapsed": false
   },
   "outputs": [],
   "source": [
    "from geopy.distance import great_circle\n",
    "dists = [great_circle((m[1].y, m[1].x), (51.5148, 0.0651)).miles for m in map_data.iterrows()]"
   ]
  },
  {
   "cell_type": "code",
   "execution_count": 17,
   "metadata": {
    "collapsed": false
   },
   "outputs": [],
   "source": [
    "map_data['dists'] = dists"
   ]
  },
  {
   "cell_type": "code",
   "execution_count": 18,
   "metadata": {
    "collapsed": false
   },
   "outputs": [
    {
     "data": {
      "text/plain": [
       "42"
      ]
     },
     "execution_count": 18,
     "metadata": {},
     "output_type": "execute_result"
    }
   ],
   "source": [
    "len(map_data)"
   ]
  },
  {
   "cell_type": "code",
   "execution_count": 19,
   "metadata": {
    "collapsed": false
   },
   "outputs": [
    {
     "data": {
      "text/plain": [
       "38"
      ]
     },
     "execution_count": 19,
     "metadata": {},
     "output_type": "execute_result"
    }
   ],
   "source": [
    "len(data)"
   ]
  },
  {
   "cell_type": "code",
   "execution_count": 41,
   "metadata": {
    "collapsed": false
   },
   "outputs": [],
   "source": [
    "a = data.ix[14]['name'].lower()"
   ]
  },
  {
   "cell_type": "code",
   "execution_count": 42,
   "metadata": {
    "collapsed": false
   },
   "outputs": [
    {
     "data": {
      "text/plain": [
       "\"holborn the shakespeare's head\""
      ]
     },
     "execution_count": 42,
     "metadata": {},
     "output_type": "execute_result"
    }
   ],
   "source": [
    "a"
   ]
  },
  {
   "cell_type": "code",
   "execution_count": 40,
   "metadata": {
    "collapsed": false
   },
   "outputs": [],
   "source": [
    "b = map_data.ix[24]['name'].lower()"
   ]
  },
  {
   "cell_type": "code",
   "execution_count": 43,
   "metadata": {
    "collapsed": false
   },
   "outputs": [
    {
     "data": {
      "text/plain": [
       "'shakespeares head'"
      ]
     },
     "execution_count": 43,
     "metadata": {},
     "output_type": "execute_result"
    }
   ],
   "source": [
    "b"
   ]
  },
  {
   "cell_type": "code",
   "execution_count": 45,
   "metadata": {
    "collapsed": false
   },
   "outputs": [
    {
     "data": {
      "text/plain": [
       "(38, 42)"
      ]
     },
     "execution_count": 45,
     "metadata": {},
     "output_type": "execute_result"
    }
   ],
   "source": [
    "len(data), len(map_data)"
   ]
  },
  {
   "cell_type": "code",
   "execution_count": null,
   "metadata": {
    "collapsed": true
   },
   "outputs": [],
   "source": [
    "regex.search('(?:' + a)')"
   ]
  }
 ],
 "metadata": {
  "kernelspec": {
   "display_name": "Python 2",
   "language": "python",
   "name": "python2"
  },
  "language_info": {
   "codemirror_mode": {
    "name": "ipython",
    "version": 2
   },
   "file_extension": ".py",
   "mimetype": "text/x-python",
   "name": "python",
   "nbconvert_exporter": "python",
   "pygments_lexer": "ipython2",
   "version": "2.7.13"
  }
 },
 "nbformat": 4,
 "nbformat_minor": 2
}
